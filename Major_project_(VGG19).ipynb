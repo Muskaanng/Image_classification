{
  "cells": [
    {
      "cell_type": "markdown",
      "metadata": {
        "id": "yqr50whIZ087"
      },
      "source": [
        "# Dataset Download"
      ]
    },
    {
      "cell_type": "code",
      "execution_count": null,
      "metadata": {
        "id": "RooygD3u9Yz1"
      },
      "outputs": [],
      "source": [
        "import tensorflow as tf\n",
        "gpus = tf.config.experimental.list_physical_devices('GPU')\n",
        "if gpus:\n",
        "    tf.config.experimental.set_memory_growth(gpus[0], True)"
      ]
    },
    {
      "cell_type": "code",
      "execution_count": null,
      "metadata": {
        "colab": {
          "base_uri": "https://localhost:8080/"
        },
        "id": "5YT68GeoYuOl",
        "outputId": "6f5a02cb-54ad-4fc4-e989-1253444b33e2"
      },
      "outputs": [
        {
          "output_type": "stream",
          "name": "stdout",
          "text": [
            "Requirement already satisfied: kaggle in /usr/local/lib/python3.10/dist-packages (1.5.16)\n",
            "Requirement already satisfied: six>=1.10 in /usr/local/lib/python3.10/dist-packages (from kaggle) (1.16.0)\n",
            "Requirement already satisfied: certifi in /usr/local/lib/python3.10/dist-packages (from kaggle) (2024.2.2)\n",
            "Requirement already satisfied: python-dateutil in /usr/local/lib/python3.10/dist-packages (from kaggle) (2.8.2)\n",
            "Requirement already satisfied: requests in /usr/local/lib/python3.10/dist-packages (from kaggle) (2.31.0)\n",
            "Requirement already satisfied: tqdm in /usr/local/lib/python3.10/dist-packages (from kaggle) (4.66.2)\n",
            "Requirement already satisfied: python-slugify in /usr/local/lib/python3.10/dist-packages (from kaggle) (8.0.4)\n",
            "Requirement already satisfied: urllib3 in /usr/local/lib/python3.10/dist-packages (from kaggle) (2.0.7)\n",
            "Requirement already satisfied: bleach in /usr/local/lib/python3.10/dist-packages (from kaggle) (6.1.0)\n",
            "Requirement already satisfied: webencodings in /usr/local/lib/python3.10/dist-packages (from bleach->kaggle) (0.5.1)\n",
            "Requirement already satisfied: text-unidecode>=1.3 in /usr/local/lib/python3.10/dist-packages (from python-slugify->kaggle) (1.3)\n",
            "Requirement already satisfied: charset-normalizer<4,>=2 in /usr/local/lib/python3.10/dist-packages (from requests->kaggle) (3.3.2)\n",
            "Requirement already satisfied: idna<4,>=2.5 in /usr/local/lib/python3.10/dist-packages (from requests->kaggle) (3.6)\n"
          ]
        }
      ],
      "source": [
        "!pip install kaggle"
      ]
    },
    {
      "cell_type": "code",
      "execution_count": null,
      "metadata": {
        "id": "q9eIdFHxTxXn"
      },
      "outputs": [],
      "source": [
        "!mkdir -p ~/.kaggle\n",
        "\n",
        "!mv kaggle.json ~/.kaggle/\n",
        "\n",
        "!chmod 600 ~/.kaggle/kaggle.json"
      ]
    },
    {
      "cell_type": "code",
      "execution_count": null,
      "metadata": {
        "colab": {
          "base_uri": "https://localhost:8080/"
        },
        "id": "WaWd92gHZj1X",
        "outputId": "3ac6723b-de7b-4017-fe77-41ebfa63fa4b"
      },
      "outputs": [
        {
          "output_type": "stream",
          "name": "stdout",
          "text": [
            "Downloading chest-xray-pneumoniacovid19tuberculosis.zip to /content\n",
            "100% 1.74G/1.74G [00:20<00:00, 122MB/s]\n",
            "100% 1.74G/1.74G [00:20<00:00, 92.7MB/s]\n"
          ]
        }
      ],
      "source": [
        "!kaggle datasets download -d jtiptj/chest-xray-pneumoniacovid19tuberculosis"
      ]
    },
    {
      "cell_type": "code",
      "execution_count": null,
      "metadata": {
        "id": "M8dTUmmgVCVx"
      },
      "outputs": [],
      "source": [
        "!unzip -q chest-xray-pneumoniacovid19tuberculosis.zip"
      ]
    },
    {
      "cell_type": "code",
      "execution_count": null,
      "metadata": {
        "id": "WDcHxQM6WJRW"
      },
      "outputs": [],
      "source": [
        "import zipfile\n",
        "import os\n",
        "\n",
        "# zip_file_path = '/content/chest-xray-pneumoniacovid19tuberculosis.zip'\n",
        "# extracted_folder_path = '/content/'\n",
        "# # Create a ZipFile object\n",
        "# with zipfile.ZipFile(zip_file_path, 'r') as zip_ref:\n",
        "#     zip_ref.extractall(extracted_folder_path)"
      ]
    },
    {
      "cell_type": "code",
      "execution_count": null,
      "metadata": {
        "id": "pV6UR9qpadwd"
      },
      "outputs": [],
      "source": [
        "os.remove('/content/chest-xray-pneumoniacovid19tuberculosis.zip')"
      ]
    },
    {
      "cell_type": "markdown",
      "metadata": {
        "id": "VtjJq4RyATM5"
      },
      "source": [
        "# VGG"
      ]
    },
    {
      "cell_type": "code",
      "execution_count": null,
      "metadata": {
        "id": "c-p7N4eK9Jmv"
      },
      "outputs": [],
      "source": [
        "import cv2\n",
        "import numpy as np\n",
        "from tensorflow.keras.preprocessing.image import ImageDataGenerator\n",
        "from tensorflow.keras.applications import VGG19, DenseNet121, DenseNet169\n",
        "from tensorflow.keras import layers, models\n",
        "from tensorflow.keras.callbacks import EarlyStopping\n",
        "from tensorflow.keras.regularizers import l2\n",
        "from tensorflow.keras.optimizers import Adam\n",
        "from tensorflow.keras.layers import BatchNormalization\n"
      ]
    },
    {
      "cell_type": "code",
      "execution_count": null,
      "metadata": {
        "id": "hVkt2Fev954R"
      },
      "outputs": [],
      "source": [
        "# Data Preprocessing\n",
        "def preprocess_data(data_path, image_size, batch_size):\n",
        "    datagen = ImageDataGenerator(\n",
        "        rotation_range=20,\n",
        "        width_shift_range=0.1,\n",
        "        height_shift_range=0.1,\n",
        "        zoom_range=0.1,\n",
        "        horizontal_flip=True,\n",
        "        validation_split=0.2,\n",
        "        preprocessing_function=lambda x: x / 255.0,\n",
        "    )\n",
        "\n",
        "    train_generator = datagen.flow_from_directory(\n",
        "        data_path,\n",
        "        target_size=image_size,\n",
        "        batch_size=batch_size,\n",
        "        class_mode='categorical',\n",
        "        subset='training',\n",
        "        color_mode='rgb'\n",
        "    )\n",
        "\n",
        "    validation_generator = datagen.flow_from_directory(\n",
        "        data_path,\n",
        "        target_size=image_size,\n",
        "        batch_size=batch_size,\n",
        "        class_mode='categorical',\n",
        "        subset='validation',\n",
        "        color_mode='rgb'\n",
        "    )\n",
        "\n",
        "    return train_generator, validation_generator\n"
      ]
    },
    {
      "cell_type": "code",
      "execution_count": null,
      "metadata": {
        "colab": {
          "base_uri": "https://localhost:8080/",
          "height": 373
        },
        "id": "fysK8XXwWzjy",
        "outputId": "d38e235f-250f-443b-a8f7-1d0de96c1a89"
      },
      "outputs": [
        {
          "output_type": "error",
          "ename": "FileNotFoundError",
          "evalue": "[Errno 2] No such file or directory: '/content/train'",
          "traceback": [
            "\u001b[0;31m---------------------------------------------------------------------------\u001b[0m",
            "\u001b[0;31mFileNotFoundError\u001b[0m                         Traceback (most recent call last)",
            "\u001b[0;32m<ipython-input-2-1850adca8ca5>\u001b[0m in \u001b[0;36m<cell line: 8>\u001b[0;34m()\u001b[0m\n\u001b[1;32m      6\u001b[0m \u001b[0;34m\u001b[0m\u001b[0m\n\u001b[1;32m      7\u001b[0m \u001b[0;31m# Create the train_generator\u001b[0m\u001b[0;34m\u001b[0m\u001b[0;34m\u001b[0m\u001b[0m\n\u001b[0;32m----> 8\u001b[0;31m \u001b[0mtrain_generator\u001b[0m\u001b[0;34m,\u001b[0m \u001b[0m_\u001b[0m \u001b[0;34m=\u001b[0m \u001b[0mpreprocess_data\u001b[0m\u001b[0;34m(\u001b[0m\u001b[0;34m'/content/train'\u001b[0m\u001b[0;34m,\u001b[0m \u001b[0mimage_size\u001b[0m\u001b[0;34m,\u001b[0m \u001b[0;36m8\u001b[0m\u001b[0;34m)\u001b[0m\u001b[0;34m\u001b[0m\u001b[0;34m\u001b[0m\u001b[0m\n\u001b[0m\u001b[1;32m      9\u001b[0m \u001b[0;34m\u001b[0m\u001b[0m\n\u001b[1;32m     10\u001b[0m \u001b[0;31m# Process the image one at a time\u001b[0m\u001b[0;34m\u001b[0m\u001b[0;34m\u001b[0m\u001b[0m\n",
            "\u001b[0;32m<ipython-input-1-a13296f935ca>\u001b[0m in \u001b[0;36mpreprocess_data\u001b[0;34m(data_path, image_size, batch_size)\u001b[0m\n\u001b[1;32m     16\u001b[0m     )\n\u001b[1;32m     17\u001b[0m \u001b[0;34m\u001b[0m\u001b[0m\n\u001b[0;32m---> 18\u001b[0;31m     train_generator = datagen.flow_from_directory(\n\u001b[0m\u001b[1;32m     19\u001b[0m         \u001b[0mdata_path\u001b[0m\u001b[0;34m,\u001b[0m\u001b[0;34m\u001b[0m\u001b[0;34m\u001b[0m\u001b[0m\n\u001b[1;32m     20\u001b[0m         \u001b[0mtarget_size\u001b[0m\u001b[0;34m=\u001b[0m\u001b[0mimage_size\u001b[0m\u001b[0;34m,\u001b[0m\u001b[0;34m\u001b[0m\u001b[0;34m\u001b[0m\u001b[0m\n",
            "\u001b[0;32m/usr/local/lib/python3.10/dist-packages/keras/src/preprocessing/image.py\u001b[0m in \u001b[0;36mflow_from_directory\u001b[0;34m(self, directory, target_size, color_mode, classes, class_mode, batch_size, shuffle, seed, save_to_dir, save_prefix, save_format, follow_links, subset, interpolation, keep_aspect_ratio)\u001b[0m\n\u001b[1;32m   1647\u001b[0m             \u001b[0;32mand\u001b[0m\u001b[0;31m \u001b[0m\u001b[0;31m`\u001b[0m\u001b[0my\u001b[0m\u001b[0;31m`\u001b[0m \u001b[0;32mis\u001b[0m \u001b[0ma\u001b[0m \u001b[0mnumpy\u001b[0m \u001b[0marray\u001b[0m \u001b[0mof\u001b[0m \u001b[0mcorresponding\u001b[0m \u001b[0mlabels\u001b[0m\u001b[0;34m.\u001b[0m\u001b[0;34m\u001b[0m\u001b[0;34m\u001b[0m\u001b[0m\n\u001b[1;32m   1648\u001b[0m         \"\"\"\n\u001b[0;32m-> 1649\u001b[0;31m         return DirectoryIterator(\n\u001b[0m\u001b[1;32m   1650\u001b[0m             \u001b[0mdirectory\u001b[0m\u001b[0;34m,\u001b[0m\u001b[0;34m\u001b[0m\u001b[0;34m\u001b[0m\u001b[0m\n\u001b[1;32m   1651\u001b[0m             \u001b[0mself\u001b[0m\u001b[0;34m,\u001b[0m\u001b[0;34m\u001b[0m\u001b[0;34m\u001b[0m\u001b[0m\n",
            "\u001b[0;32m/usr/local/lib/python3.10/dist-packages/keras/src/preprocessing/image.py\u001b[0m in \u001b[0;36m__init__\u001b[0;34m(self, directory, image_data_generator, target_size, color_mode, classes, class_mode, batch_size, shuffle, seed, data_format, save_to_dir, save_prefix, save_format, follow_links, subset, interpolation, keep_aspect_ratio, dtype)\u001b[0m\n\u001b[1;32m    561\u001b[0m         \u001b[0;32mif\u001b[0m \u001b[0;32mnot\u001b[0m \u001b[0mclasses\u001b[0m\u001b[0;34m:\u001b[0m\u001b[0;34m\u001b[0m\u001b[0;34m\u001b[0m\u001b[0m\n\u001b[1;32m    562\u001b[0m             \u001b[0mclasses\u001b[0m \u001b[0;34m=\u001b[0m \u001b[0;34m[\u001b[0m\u001b[0;34m]\u001b[0m\u001b[0;34m\u001b[0m\u001b[0;34m\u001b[0m\u001b[0m\n\u001b[0;32m--> 563\u001b[0;31m             \u001b[0;32mfor\u001b[0m \u001b[0msubdir\u001b[0m \u001b[0;32min\u001b[0m \u001b[0msorted\u001b[0m\u001b[0;34m(\u001b[0m\u001b[0mos\u001b[0m\u001b[0;34m.\u001b[0m\u001b[0mlistdir\u001b[0m\u001b[0;34m(\u001b[0m\u001b[0mdirectory\u001b[0m\u001b[0;34m)\u001b[0m\u001b[0;34m)\u001b[0m\u001b[0;34m:\u001b[0m\u001b[0;34m\u001b[0m\u001b[0;34m\u001b[0m\u001b[0m\n\u001b[0m\u001b[1;32m    564\u001b[0m                 \u001b[0;32mif\u001b[0m \u001b[0mos\u001b[0m\u001b[0;34m.\u001b[0m\u001b[0mpath\u001b[0m\u001b[0;34m.\u001b[0m\u001b[0misdir\u001b[0m\u001b[0;34m(\u001b[0m\u001b[0mos\u001b[0m\u001b[0;34m.\u001b[0m\u001b[0mpath\u001b[0m\u001b[0;34m.\u001b[0m\u001b[0mjoin\u001b[0m\u001b[0;34m(\u001b[0m\u001b[0mdirectory\u001b[0m\u001b[0;34m,\u001b[0m \u001b[0msubdir\u001b[0m\u001b[0;34m)\u001b[0m\u001b[0;34m)\u001b[0m\u001b[0;34m:\u001b[0m\u001b[0;34m\u001b[0m\u001b[0;34m\u001b[0m\u001b[0m\n\u001b[1;32m    565\u001b[0m                     \u001b[0mclasses\u001b[0m\u001b[0;34m.\u001b[0m\u001b[0mappend\u001b[0m\u001b[0;34m(\u001b[0m\u001b[0msubdir\u001b[0m\u001b[0;34m)\u001b[0m\u001b[0;34m\u001b[0m\u001b[0;34m\u001b[0m\u001b[0m\n",
            "\u001b[0;31mFileNotFoundError\u001b[0m: [Errno 2] No such file or directory: '/content/train'"
          ]
        }
      ],
      "source": [
        "from tensorflow.keras.preprocessing.image import ImageDataGenerator\n",
        "import numpy as np\n",
        "import matplotlib.pyplot as plt\n",
        "\n",
        "image_size = (224, 224)\n",
        "\n",
        "# Create the train_generator\n",
        "train_generator, _ = preprocess_data('/content/train', image_size, 8)\n",
        "\n",
        "# Process the image one at a time\n",
        "for _ in range(1):  # Process only one batch\n",
        "    processed_batch = train_generator.next()  # Get the processed batch\n",
        "    processed_imgs = processed_batch[0]  # Extract the processed image from the batch\n",
        "\n",
        "    plt.figure(figsize=(len(processed_imgs) * 5, 5))\n",
        "\n",
        "    for i in range(len(processed_imgs)):\n",
        "        plt.subplot(1, len(processed_imgs), i + 1)\n",
        "        plt.imshow(processed_imgs[i])\n",
        "        plt.title(f'Processed Image {i+1}')\n",
        "        plt.axis('off')\n",
        "\n",
        "    plt.show()\n"
      ]
    },
    {
      "cell_type": "code",
      "execution_count": null,
      "metadata": {
        "id": "NiGG07ah9x81"
      },
      "outputs": [],
      "source": [
        "def create_model_with_bn_regularization(input_shape, num_classes):\n",
        "    base_model = VGG19(include_top=False, weights='imagenet', input_shape=input_shape)\n",
        "\n",
        "    # Set all layers trainable initially\n",
        "    for layer in base_model.layers:\n",
        "        layer.trainable = True\n",
        "\n",
        "    # Set only the last 5 layers trainable\n",
        "    for layer in base_model.layers[:-3]:\n",
        "        layer.trainable = False\n",
        "\n",
        "    # Specific hyperparameter configuration\n",
        "    activation_choice = 'tanh'\n",
        "    optimizer_choice = 'sgd'\n",
        "    dropout_choice = 0.3\n",
        "    pooling_choice = 'avg_pooling'\n",
        "\n",
        "    model = models.Sequential([\n",
        "        base_model,\n",
        "        layers.AveragePooling2D(),\n",
        "        layers.GlobalAveragePooling2D(),\n",
        "        BatchNormalization(),\n",
        "        layers.Dense(256, activation=activation_choice, kernel_regularizer=l2(0.001)),\n",
        "        layers.Dropout(dropout_choice),\n",
        "        BatchNormalization(),\n",
        "        layers.Dense(64, activation=activation_choice, kernel_regularizer=l2(0.001)),\n",
        "        layers.Dense(num_classes, activation='softmax')\n",
        "    ])\n",
        "\n",
        "    # Compile the model with the specified optimizer\n",
        "    model.compile(optimizer=optimizer_choice, loss='categorical_crossentropy', metrics=['accuracy'])\n",
        "\n",
        "    return model\n"
      ]
    },
    {
      "cell_type": "code",
      "execution_count": null,
      "metadata": {
        "colab": {
          "base_uri": "https://localhost:8080/"
        },
        "id": "onyaGLxT9uoH",
        "outputId": "fe66e1b4-8870-413f-ca5e-d9ae02a8ca4f"
      },
      "outputs": [
        {
          "output_type": "stream",
          "name": "stdout",
          "text": [
            "Found 5061 images belonging to 4 classes.\n",
            "Found 1265 images belonging to 4 classes.\n"
          ]
        }
      ],
      "source": [
        "# Define data path and image size\n",
        "data_path = '/content/train'\n",
        "\n",
        "image_size = (224, 224)\n",
        "batch_size = 16\n",
        "\n",
        "# Preprocess the data\n",
        "train_generator, validation_generator = preprocess_data(data_path, image_size, batch_size)\n",
        "\n"
      ]
    },
    {
      "cell_type": "code",
      "execution_count": null,
      "metadata": {
        "colab": {
          "base_uri": "https://localhost:8080/"
        },
        "id": "8_5Eg4oU9slE",
        "outputId": "ebe92dc4-bb89-4129-9573-3ebade2cb77d"
      },
      "outputs": [
        {
          "output_type": "stream",
          "name": "stdout",
          "text": [
            "Downloading data from https://storage.googleapis.com/tensorflow/keras-applications/vgg19/vgg19_weights_tf_dim_ordering_tf_kernels_notop.h5\n",
            "80134624/80134624 [==============================] - 0s 0us/step\n",
            "Model: \"sequential\"\n",
            "_________________________________________________________________\n",
            " Layer (type)                Output Shape              Param #   \n",
            "=================================================================\n",
            " vgg19 (Functional)          (None, 7, 7, 512)         20024384  \n",
            "                                                                 \n",
            " average_pooling2d (Average  (None, 3, 3, 512)         0         \n",
            " Pooling2D)                                                      \n",
            "                                                                 \n",
            " global_average_pooling2d (  (None, 512)               0         \n",
            " GlobalAveragePooling2D)                                         \n",
            "                                                                 \n",
            " batch_normalization (Batch  (None, 512)               2048      \n",
            " Normalization)                                                  \n",
            "                                                                 \n",
            " dense (Dense)               (None, 256)               131328    \n",
            "                                                                 \n",
            " dropout (Dropout)           (None, 256)               0         \n",
            "                                                                 \n",
            " batch_normalization_1 (Bat  (None, 256)               1024      \n",
            " chNormalization)                                                \n",
            "                                                                 \n",
            " dense_1 (Dense)             (None, 64)                16448     \n",
            "                                                                 \n",
            " dense_2 (Dense)             (None, 4)                 260       \n",
            "                                                                 \n",
            "=================================================================\n",
            "Total params: 20175492 (76.96 MB)\n",
            "Trainable params: 4869188 (18.57 MB)\n",
            "Non-trainable params: 15306304 (58.39 MB)\n",
            "_________________________________________________________________\n"
          ]
        }
      ],
      "source": [
        "# Define the input shape and number of classes\n",
        "input_shape = (*image_size, 3)\n",
        "num_classes = 4\n",
        "\n",
        "# Create the model\n",
        "model = create_model_with_bn_regularization(input_shape=(224, 224, 3), num_classes=num_classes)\n",
        "\n",
        "\n",
        "# Display the model summary\n",
        "model.summary()"
      ]
    },
    {
      "cell_type": "markdown",
      "metadata": {
        "id": "2F8i6rqfcmwa"
      },
      "source": [
        "# Training"
      ]
    },
    {
      "cell_type": "code",
      "execution_count": null,
      "metadata": {
        "id": "koWLog3m9n4x"
      },
      "outputs": [],
      "source": [
        "# Model Training\n",
        "def train_model(model, train_generator, validation_generator, epochs):\n",
        "    callback = EarlyStopping(monitor='loss', patience=3)\n",
        "    history = model.fit(\n",
        "        train_generator,\n",
        "        steps_per_epoch=train_generator.samples // train_generator.batch_size,\n",
        "        validation_data=validation_generator,\n",
        "        validation_steps=validation_generator.samples // validation_generator.batch_size,\n",
        "        epochs=epochs,\n",
        "        callbacks=[callback]\n",
        "    )\n",
        "    return history"
      ]
    },
    {
      "cell_type": "code",
      "execution_count": null,
      "metadata": {
        "colab": {
          "base_uri": "https://localhost:8080/"
        },
        "id": "r7NKcQr_9lPr",
        "outputId": "c7bb48e2-4b30-4851-fc94-b1f2bfa37f8e"
      },
      "outputs": [
        {
          "output_type": "stream",
          "name": "stdout",
          "text": [
            "Epoch 1/50\n",
            "316/316 [==============================] - 156s 463ms/step - loss: 0.9216 - accuracy: 0.8414 - val_loss: 1.0650 - val_accuracy: 0.7967\n",
            "Epoch 2/50\n",
            "316/316 [==============================] - 142s 449ms/step - loss: 0.6849 - accuracy: 0.9116 - val_loss: 0.7019 - val_accuracy: 0.9209\n",
            "Epoch 3/50\n",
            "316/316 [==============================] - 144s 454ms/step - loss: 0.6586 - accuracy: 0.9223 - val_loss: 0.6191 - val_accuracy: 0.9312\n",
            "Epoch 4/50\n",
            "316/316 [==============================] - 156s 493ms/step - loss: 0.6252 - accuracy: 0.9292 - val_loss: 0.6373 - val_accuracy: 0.9217\n",
            "Epoch 5/50\n",
            "316/316 [==============================] - 147s 465ms/step - loss: 0.5907 - accuracy: 0.9425 - val_loss: 0.6464 - val_accuracy: 0.9256\n",
            "Epoch 6/50\n",
            "316/316 [==============================] - 142s 448ms/step - loss: 0.5696 - accuracy: 0.9447 - val_loss: 0.6927 - val_accuracy: 0.8916\n",
            "Epoch 7/50\n",
            "316/316 [==============================] - 157s 498ms/step - loss: 0.5609 - accuracy: 0.9481 - val_loss: 0.5621 - val_accuracy: 0.9509\n",
            "Epoch 8/50\n",
            "316/316 [==============================] - 142s 451ms/step - loss: 0.5477 - accuracy: 0.9497 - val_loss: 0.5194 - val_accuracy: 0.9589\n",
            "Epoch 9/50\n",
            "316/316 [==============================] - 147s 467ms/step - loss: 0.5290 - accuracy: 0.9574 - val_loss: 0.5058 - val_accuracy: 0.9644\n",
            "Epoch 10/50\n",
            "316/316 [==============================] - 145s 459ms/step - loss: 0.5187 - accuracy: 0.9592 - val_loss: 0.5254 - val_accuracy: 0.9533\n",
            "Epoch 11/50\n",
            "316/316 [==============================] - 143s 454ms/step - loss: 0.4984 - accuracy: 0.9610 - val_loss: 0.5331 - val_accuracy: 0.9478\n",
            "Epoch 12/50\n",
            "316/316 [==============================] - 145s 458ms/step - loss: 0.4957 - accuracy: 0.9606 - val_loss: 0.5049 - val_accuracy: 0.9525\n",
            "Epoch 13/50\n",
            "316/316 [==============================] - 149s 471ms/step - loss: 0.4915 - accuracy: 0.9617 - val_loss: 0.5768 - val_accuracy: 0.9264\n",
            "Epoch 14/50\n",
            "316/316 [==============================] - 152s 481ms/step - loss: 0.4779 - accuracy: 0.9611 - val_loss: 0.4768 - val_accuracy: 0.9636\n",
            "Epoch 15/50\n",
            "316/316 [==============================] - 147s 466ms/step - loss: 0.4694 - accuracy: 0.9653 - val_loss: 0.5205 - val_accuracy: 0.9367\n",
            "Epoch 16/50\n",
            "316/316 [==============================] - 161s 511ms/step - loss: 0.4635 - accuracy: 0.9645 - val_loss: 0.5081 - val_accuracy: 0.9517\n",
            "Epoch 17/50\n",
            "316/316 [==============================] - 141s 444ms/step - loss: 0.4558 - accuracy: 0.9679 - val_loss: 0.4865 - val_accuracy: 0.9636\n",
            "Epoch 18/50\n",
            "316/316 [==============================] - 139s 439ms/step - loss: 0.4490 - accuracy: 0.9675 - val_loss: 0.4634 - val_accuracy: 0.9565\n",
            "Epoch 19/50\n",
            "316/316 [==============================] - 153s 484ms/step - loss: 0.4407 - accuracy: 0.9689 - val_loss: 0.4785 - val_accuracy: 0.9509\n",
            "Epoch 20/50\n",
            "316/316 [==============================] - 140s 442ms/step - loss: 0.4444 - accuracy: 0.9669 - val_loss: 0.4927 - val_accuracy: 0.9446\n",
            "Epoch 21/50\n",
            "316/316 [==============================] - 143s 453ms/step - loss: 0.4255 - accuracy: 0.9717 - val_loss: 0.4644 - val_accuracy: 0.9589\n",
            "Epoch 22/50\n",
            "316/316 [==============================] - 142s 451ms/step - loss: 0.4313 - accuracy: 0.9675 - val_loss: 0.4188 - val_accuracy: 0.9676\n",
            "Epoch 23/50\n",
            "316/316 [==============================] - 144s 456ms/step - loss: 0.4207 - accuracy: 0.9689 - val_loss: 0.4232 - val_accuracy: 0.9676\n",
            "Epoch 24/50\n",
            "316/316 [==============================] - 139s 439ms/step - loss: 0.4172 - accuracy: 0.9707 - val_loss: 0.4547 - val_accuracy: 0.9541\n",
            "Epoch 25/50\n",
            "316/316 [==============================] - 141s 446ms/step - loss: 0.4162 - accuracy: 0.9691 - val_loss: 0.4203 - val_accuracy: 0.9652\n",
            "Epoch 26/50\n",
            "316/316 [==============================] - 141s 447ms/step - loss: 0.3860 - accuracy: 0.9768 - val_loss: 0.4883 - val_accuracy: 0.9422\n",
            "Epoch 27/50\n",
            "316/316 [==============================] - 142s 449ms/step - loss: 0.3889 - accuracy: 0.9746 - val_loss: 0.3798 - val_accuracy: 0.9731\n",
            "Epoch 28/50\n",
            "316/316 [==============================] - 156s 494ms/step - loss: 0.3909 - accuracy: 0.9750 - val_loss: 0.5350 - val_accuracy: 0.9169\n",
            "Epoch 29/50\n",
            "316/316 [==============================] - 142s 449ms/step - loss: 0.3895 - accuracy: 0.9722 - val_loss: 0.4560 - val_accuracy: 0.9502\n"
          ]
        }
      ],
      "source": [
        "# Define the number of epochs for training\n",
        "epochs = 50\n",
        "\n",
        "# Train the model\n",
        "history = train_model(model, train_generator, validation_generator, epochs)"
      ]
    },
    {
      "cell_type": "code",
      "execution_count": null,
      "metadata": {
        "id": "lc_HDTrs-Ky1"
      },
      "outputs": [],
      "source": [
        "import matplotlib.pyplot as plt\n",
        "import seaborn as sns"
      ]
    },
    {
      "cell_type": "code",
      "execution_count": null,
      "metadata": {
        "id": "1p31CoTZ-MJT"
      },
      "outputs": [],
      "source": [
        "# Extract training and validation loss and accuracy from the history\n",
        "train_loss = history.history['loss']\n",
        "val_loss = history.history['val_loss']\n",
        "train_accuracy = history.history['accuracy']\n",
        "val_accuracy = history.history['val_accuracy']"
      ]
    },
    {
      "cell_type": "code",
      "execution_count": null,
      "metadata": {
        "colab": {
          "base_uri": "https://localhost:8080/",
          "height": 472
        },
        "id": "2JAyJPrl-I5M",
        "outputId": "55ee7408-2566-4f7b-854e-66fdb90db80c"
      },
      "outputs": [
        {
          "output_type": "display_data",
          "data": {
            "text/plain": [
              "<Figure size 1200x500 with 2 Axes>"
            ],
            "image/png": "[encoded data removed]"
          },
          "metadata": {}
        }
      ],
      "source": [
        "# Create a figure with two subplots for loss and accuracy\n",
        "sns.set()\n",
        "plt.figure(figsize=(12, 5))\n",
        "plt.subplot(1, 2, 1)\n",
        "plt.plot(train_loss, label='Training Loss')\n",
        "plt.plot(val_loss, label='Validation Loss')\n",
        "plt.xlabel('Epoch')\n",
        "plt.ylabel('Loss')\n",
        "plt.legend()\n",
        "plt.ylim(0, 5)\n",
        "plt.title('Loss Over Epochs')\n",
        "\n",
        "# Plot accuracy\n",
        "plt.subplot(1, 2, 2)\n",
        "plt.plot(train_accuracy, label='Training Accuracy')\n",
        "plt.plot(val_accuracy, label='Validation Accuracy')\n",
        "plt.xlabel('Epoch')\n",
        "plt.ylabel('Accuracy')\n",
        "plt.legend()\n",
        "plt.ylim(0, 1)\n",
        "plt.title('Accuracy Over Epochs')\n",
        "\n",
        "# Show the plot\n",
        "plt.tight_layout()\n",
        "plt.show()"
      ]
    },
    {
      "cell_type": "code",
      "execution_count": null,
      "metadata": {
        "colab": {
          "base_uri": "https://localhost:8080/"
        },
        "id": "Rm6w42onAR_z",
        "outputId": "27775280-b7b9-4292-846a-b6f2e7565191"
      },
      "outputs": [
        {
          "output_type": "stream",
          "name": "stderr",
          "text": [
            "/usr/local/lib/python3.10/dist-packages/keras/src/engine/training.py:3103: UserWarning: You are saving your model as an HDF5 file via `model.save()`. This file format is considered legacy. We recommend using instead the native Keras format, e.g. `model.save('my_model.keras')`.\n",
            "  saving_api.save_model(\n"
          ]
        }
      ],
      "source": [
        "model.save('vgg19.h5')"
      ]
    },
    {
      "cell_type": "markdown",
      "metadata": {
        "id": "EJKrayYdhCyu"
      },
      "source": [
        "# Load Model (optional)"
      ]
    },
    {
      "cell_type": "code",
      "execution_count": null,
      "metadata": {
        "id": "erij4mrLXFha"
      },
      "outputs": [],
      "source": [
        "from tensorflow.keras.models import load_model"
      ]
    },
    {
      "cell_type": "code",
      "execution_count": null,
      "metadata": {
        "colab": {
          "base_uri": "https://localhost:8080/"
        },
        "id": "mcq9MUMXXG08",
        "outputId": "ade46c8c-5f8a-4699-801b-501f5c37e0bb"
      },
      "outputs": [
        {
          "output_type": "stream",
          "name": "stdout",
          "text": [
            "No file or directory found at /content/VGG19_hyperparameter_tuned_model_complete.h5\n"
          ]
        }
      ],
      "source": [
        "# Load the model from the saved file\n",
        "\n",
        "try:\n",
        "    loaded_model = load_model('/content/VGG19_hyperparameter_tuned_model_complete.h5')\n",
        "except OSError as err:\n",
        "    print(err)\n",
        "    loaded_model=model\n",
        "# loaded_model=model"
      ]
    },
    {
      "cell_type": "code",
      "execution_count": null,
      "metadata": {
        "id": "zf3Aj42jhOXW",
        "colab": {
          "base_uri": "https://localhost:8080/"
        },
        "outputId": "2625af1f-d42d-4d53-c7dc-48823b6979cd"
      },
      "outputs": [
        {
          "output_type": "stream",
          "name": "stdout",
          "text": [
            "Model: \"sequential\"\n",
            "_________________________________________________________________\n",
            " Layer (type)                Output Shape              Param #   \n",
            "=================================================================\n",
            " vgg19 (Functional)          (None, 7, 7, 512)         20024384  \n",
            "                                                                 \n",
            " average_pooling2d (Average  (None, 3, 3, 512)         0         \n",
            " Pooling2D)                                                      \n",
            "                                                                 \n",
            " global_average_pooling2d (  (None, 512)               0         \n",
            " GlobalAveragePooling2D)                                         \n",
            "                                                                 \n",
            " batch_normalization (Batch  (None, 512)               2048      \n",
            " Normalization)                                                  \n",
            "                                                                 \n",
            " dense (Dense)               (None, 256)               131328    \n",
            "                                                                 \n",
            " dropout (Dropout)           (None, 256)               0         \n",
            "                                                                 \n",
            " batch_normalization_1 (Bat  (None, 256)               1024      \n",
            " chNormalization)                                                \n",
            "                                                                 \n",
            " dense_1 (Dense)             (None, 64)                16448     \n",
            "                                                                 \n",
            " dense_2 (Dense)             (None, 4)                 260       \n",
            "                                                                 \n",
            "=================================================================\n",
            "Total params: 20175492 (76.96 MB)\n",
            "Trainable params: 4869188 (18.57 MB)\n",
            "Non-trainable params: 15306304 (58.39 MB)\n",
            "_________________________________________________________________\n"
          ]
        }
      ],
      "source": [
        "loaded_model.summary()"
      ]
    },
    {
      "cell_type": "markdown",
      "metadata": {
        "id": "lhNwckIrcsXY"
      },
      "source": [
        "# Test"
      ]
    },
    {
      "cell_type": "code",
      "execution_count": null,
      "metadata": {
        "id": "SkFGZMCC9h_l"
      },
      "outputs": [],
      "source": [
        "# Model Evaluation\n",
        "def evaluate_model(model, test_generator):\n",
        "    return model.evaluate(test_generator)"
      ]
    },
    {
      "cell_type": "code",
      "execution_count": null,
      "metadata": {
        "colab": {
          "base_uri": "https://localhost:8080/"
        },
        "id": "2vy98lfn9fwd",
        "outputId": "4cfa4fe6-1c25-448b-e368-a0ca1e3c681e"
      },
      "outputs": [
        {
          "output_type": "stream",
          "name": "stdout",
          "text": [
            "Found 771 images belonging to 4 classes.\n"
          ]
        }
      ],
      "source": [
        "# Test data path (Assuming a separate test dataset)\n",
        "test_data_path = '/content/test'\n",
        "test_generator = ImageDataGenerator(preprocessing_function=lambda x: x / 255.0).flow_from_directory(\n",
        "    test_data_path,\n",
        "    target_size=image_size,\n",
        "    batch_size=batch_size,\n",
        "    class_mode='categorical',\n",
        "    shuffle=True\n",
        ")"
      ]
    },
    {
      "cell_type": "code",
      "execution_count": null,
      "metadata": {
        "colab": {
          "base_uri": "https://localhost:8080/"
        },
        "id": "C5p_hPkc9drj",
        "outputId": "63116667-a8cd-4d39-b15c-f589f08bf4e9"
      },
      "outputs": [
        {
          "output_type": "stream",
          "name": "stdout",
          "text": [
            "49/49 [==============================] - 12s 235ms/step - loss: 0.6742 - accuracy: 0.8781\n",
            "Test Loss: 0.674233615398407\n",
            "Test Accuracy: 0.878080427646637\n"
          ]
        }
      ],
      "source": [
        "# Evaluate the model on the test set\n",
        "test_evaluation = evaluate_model(loaded_model, test_generator)\n",
        "\n",
        "# Display the test evaluation results\n",
        "print(\"Test Loss:\", test_evaluation[0])\n",
        "print(\"Test Accuracy:\", test_evaluation[1])"
      ]
    },
    {
      "cell_type": "markdown",
      "metadata": {
        "id": "Ysl9nxkAcReh"
      },
      "source": [
        "# Prediction"
      ]
    },
    {
      "cell_type": "code",
      "execution_count": null,
      "metadata": {
        "id": "BR3UF6wUW4b4"
      },
      "outputs": [],
      "source": [
        "# Predication\n",
        "\n",
        "import os\n",
        "import random\n",
        "\n",
        "# Specify the path to the test data folder\n",
        "test_data_path = '/content/test'\n",
        "\n",
        "# List all image files in the test_data_path folder and its subdirectories\n",
        "image_files = []\n",
        "for root, dirs, files in os.walk(test_data_path):\n",
        "    for file in files:\n",
        "        if file.endswith('.png') or file.endswith('.jpeg') or file.endswith('.jpg'):\n",
        "            image_files.append([os.path.join(root, file), os.path.basename(os.path.dirname(os.path.join(root, file)))])\n",
        "\n",
        "test_data_path = '/content/val'\n",
        "for root, dirs, files in os.walk(test_data_path):\n",
        "    for file in files:\n",
        "        if file.endswith('.png') or file.endswith('.jpeg') or file.endswith('.jpg'):\n",
        "            image_files.append([os.path.join(root, file), os.path.basename(os.path.dirname(os.path.join(root, file)))])\n",
        "\n",
        "\n",
        "# image_files = image_files[:100]"
      ]
    },
    {
      "cell_type": "code",
      "execution_count": null,
      "metadata": {
        "colab": {
          "base_uri": "https://localhost:8080/"
        },
        "id": "s53kpTZxXDTc",
        "outputId": "6de419cb-a5b4-4a49-e96a-690e221582c2"
      },
      "outputs": [
        {
          "output_type": "execute_result",
          "data": {
            "text/plain": [
              "809"
            ]
          },
          "metadata": {},
          "execution_count": 31
        }
      ],
      "source": [
        "#Randomize the images\n",
        "# random.shuffle(image_files)\n",
        "# random.shuffle(image_files)\n",
        "len(np.array(image_files)[:, 1])"
      ]
    },
    {
      "cell_type": "code",
      "execution_count": null,
      "metadata": {
        "id": "vHmzhg6tXLyz"
      },
      "outputs": [],
      "source": [
        "def transform_Image(new_image_path):\n",
        "    image_size = (224, 224)\n",
        "    new_image = cv2.imread(new_image_path)\n",
        "    new_image = cv2.resize(new_image, image_size)\n",
        "    new_image = new_image.astype(np.float32) / 255.0\n",
        "    new_image = np.expand_dims(new_image, axis=0)\n",
        "    return new_image"
      ]
    },
    {
      "cell_type": "code",
      "execution_count": null,
      "metadata": {
        "id": "qG_TBWsNBxTW"
      },
      "outputs": [],
      "source": [
        "y_true = []\n",
        "y_predict = []\n",
        "\n",
        "for new_image_path, true_lable in image_files:\n",
        "    predictions = loaded_model.predict(transform_Image(new_image_path))\n",
        "    predicted_class = np.argmax(predictions[0])\n",
        "    class_labels = ['COVID19', 'NORMAL', 'PNEUMONIA', 'TURBERCULOSIS']\n",
        "    y_true.append(true_lable)\n",
        "    y_predict.append(class_labels[predicted_class])"
      ]
    },
    {
      "cell_type": "code",
      "execution_count": null,
      "metadata": {
        "colab": {
          "base_uri": "https://localhost:8080/"
        },
        "id": "ckGpn9cNLps_",
        "outputId": "23d7b7c9-e058-4bf4-97a9-4b31b13c9ac2"
      },
      "outputs": [
        {
          "output_type": "stream",
          "name": "stdout",
          "text": [
            "F1 Score: 0.865497300658402\n",
            "Recall: 0.8726823238566132\n",
            "Accuracy: 0.8726823238566132\n",
            "Precision: 0.8885235228079871\n"
          ]
        }
      ],
      "source": [
        "from sklearn.metrics import confusion_matrix, f1_score, recall_score, accuracy_score,precision_score, ConfusionMatrixDisplay\n",
        "\n",
        "# confusion matrix\n",
        "conf_matrix = confusion_matrix(y_true, y_predict)\n",
        "\n",
        "# Calculate F1 score, recall, and accuracy\n",
        "f1 = f1_score(y_true, y_predict, average='weighted')\n",
        "recall = recall_score(y_true, y_predict, average='weighted')\n",
        "accuracy = accuracy_score(y_true, y_predict)\n",
        "precision = precision_score(y_true, y_predict, average=\"weighted\")\n",
        "\n",
        "\n",
        "# Display F1 score, recall, and accuracy\n",
        "print(\"F1 Score:\", f1)\n",
        "print(\"Recall:\", recall)\n",
        "print(\"Accuracy:\", accuracy)\n",
        "print(\"Precision:\", precision)"
      ]
    },
    {
      "cell_type": "code",
      "execution_count": null,
      "metadata": {
        "colab": {
          "base_uri": "https://localhost:8080/",
          "height": 475
        },
        "id": "aIyFLoW8XSFt",
        "outputId": "b81cf7bb-c372-4cdb-968d-14e80c567332"
      },
      "outputs": [
        {
          "output_type": "execute_result",
          "data": {
            "text/plain": [
              "<sklearn.metrics._plot.confusion_matrix.ConfusionMatrixDisplay at 0x7ee1eef0f850>"
            ]
          },
          "metadata": {},
          "execution_count": 35
        },
        {
          "output_type": "display_data",
          "data": {
            "text/plain": [
              "<Figure size 640x480 with 2 Axes>"
            ],
            "image/png": "[encoded data removed]"
          },
          "metadata": {}
        }
      ],
      "source": [
        "disp = ConfusionMatrixDisplay(confusion_matrix=conf_matrix, display_labels=['COVID19', 'NORMAL', 'PNEUMONIA', 'TURBERCULOSIS'])\n",
        "disp.plot(cmap='viridis', values_format='d')"
      ]
    },
    {
      "cell_type": "code",
      "execution_count": null,
      "metadata": {
        "id": "UWSd41d_S8Ut",
        "colab": {
          "base_uri": "https://localhost:8080/"
        },
        "outputId": "a2655387-04cf-4542-91f1-581e9161549d"
      },
      "outputs": [
        {
          "output_type": "stream",
          "name": "stdout",
          "text": [
            "               precision    recall  f1-score   support\n",
            "\n",
            "      COVID19       0.98      0.96      0.97       116\n",
            "       NORMAL       0.96      0.62      0.75       242\n",
            "    PNEUMONIA       0.81      0.99      0.89       398\n",
            "TURBERCULOSIS       0.96      0.96      0.96        53\n",
            "\n",
            "     accuracy                           0.87       809\n",
            "    macro avg       0.93      0.88      0.89       809\n",
            " weighted avg       0.89      0.87      0.87       809\n",
            "\n"
          ]
        }
      ],
      "source": [
        "from sklearn.metrics import classification_report\n",
        "\n",
        "cr = classification_report(y_true, y_predict)\n",
        "\n",
        "print(cr)"
      ]
    }
  ],
  "metadata": {
    "colab": {
      "provenance": []
    },
    "kernelspec": {
      "display_name": "Python 3",
      "name": "python3"
    },
    "language_info": {
      "name": "python"
    }
  },
  "nbformat": 4,
  "nbformat_minor": 0
}